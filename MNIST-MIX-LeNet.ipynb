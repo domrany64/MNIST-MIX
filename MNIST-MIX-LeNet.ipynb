{
 "cells": [
  {
   "cell_type": "code",
   "execution_count": 4,
   "metadata": {},
   "outputs": [],
   "source": [
    "import keras\n",
    "from keras.models import Sequential\n",
    "from keras.layers.core import Dense, Dropout, Activation, Flatten\n",
    "from keras.layers.convolutional import Conv2D, MaxPooling2D, ZeroPadding2D\n",
    "from keras.layers.normalization import BatchNormalization\n",
    "from keras.callbacks import ModelCheckpoint, EarlyStopping\n",
    "from keras import backend as K\n",
    "from keras.layers import *\n",
    "from keras.models import Model\n",
    "from keras.optimizers import adam\n",
    "import numpy as np\n",
    "from sklearn import metrics\n",
    "import matplotlib.pyplot as plt\n",
    "%matplotlib inline"
   ]
  },
  {
   "cell_type": "code",
   "execution_count": 2,
   "metadata": {},
   "outputs": [],
   "source": [
    "K.set_image_dim_ordering('tf')"
   ]
  },
  {
   "cell_type": "markdown",
   "metadata": {},
   "source": [
    "Define weighted f1 and balanced accuarcy"
   ]
  },
  {
   "cell_type": "code",
   "execution_count": 3,
   "metadata": {},
   "outputs": [],
   "source": [
    "def evaluate(predicted_outcome, expected_outcome):\n",
    "    from sklearn import metrics\n",
    "    f1_score = metrics.f1_score(expected_outcome, predicted_outcome, average='weighted')\n",
    "    balanced_accuracy_score = metrics.balanced_accuracy_score(expected_outcome, predicted_outcome)\n",
    "    return f1_score, balanced_accuracy_score"
   ]
  },
  {
   "cell_type": "markdown",
   "metadata": {},
   "source": [
    "Read data and split validation set"
   ]
  },
  {
   "cell_type": "code",
   "execution_count": 5,
   "metadata": {},
   "outputs": [],
   "source": [
    "def load_dataset_with_processing(input_train_test_fn, num_classes = 10):\n",
    "    data = np.load(input_train_test_fn)\n",
    "    X_train, X_test, y_train, y_test = data['X_train'], data['X_test'], data['y_train'], data['y_test']\n",
    "    \n",
    "    # split validation set\n",
    "    from sklearn.model_selection import train_test_split\n",
    "    X_train, X_vali, y_train, y_vali = train_test_split(X_train, y_train, stratify=y_train, test_size=0.2)\n",
    "    \n",
    "    X_train = np.array(X_train, dtype=\"float\") / 255.0\n",
    "    X_train = X_train.reshape(X_train.shape[0], 28, 28,1 )\n",
    "    print(X_train.shape)\n",
    "    \n",
    "    X_vali = np.array(X_vali, dtype=\"float\") / 255.0\n",
    "    X_vali = X_vali.reshape(X_vali.shape[0], 28, 28,1 )\n",
    "    print(X_vali.shape)\n",
    "    \n",
    "    X_test = np.array(X_test, dtype=\"float\") / 255.0\n",
    "    X_test = X_test.reshape(X_test.shape[0], 28, 28,1 )\n",
    "    print(X_test.shape)\n",
    "    \n",
    "    y_train = keras.utils.to_categorical(y_train, num_classes)\n",
    "    y_vali = keras.utils.to_categorical(y_vali, num_classes)\n",
    "    y_test = keras.utils.to_categorical(y_test, num_classes)\n",
    "    \n",
    "    return X_train, y_train, X_vali, y_vali, X_test, y_test"
   ]
  },
  {
   "cell_type": "markdown",
   "metadata": {},
   "source": [
    "Build a data generator"
   ]
  },
  {
   "cell_type": "code",
   "execution_count": 7,
   "metadata": {},
   "outputs": [],
   "source": [
    "def myGenerator(X_train, y_train, batch_size):    \n",
    "    total_size = X_train.shape[0]\n",
    "    \n",
    "    while True:\n",
    "        permutation = list(np.random.permutation(total_size))\n",
    "        for i in range(total_size//batch_size):\n",
    "            index = permutation[i * batch_size : (i + 1) * batch_size]\n",
    "            X_batch = X_train[index]\n",
    "            y_batch = y_train[index]\n",
    "                    \n",
    "            yield X_batch, y_batch"
   ]
  },
  {
   "cell_type": "markdown",
   "metadata": {},
   "source": [
    "Build the lenet model with pretrained weights"
   ]
  },
  {
   "cell_type": "code",
   "execution_count": 8,
   "metadata": {},
   "outputs": [
    {
     "name": "stdout",
     "output_type": "stream",
     "text": [
      "WARNING:tensorflow:From D:\\Anaconda\\envs\\tensorflow-gpu\\lib\\site-packages\\tensorflow\\python\\framework\\op_def_library.py:263: colocate_with (from tensorflow.python.framework.ops) is deprecated and will be removed in a future version.\n",
      "Instructions for updating:\n",
      "Colocations handled automatically by placer.\n",
      "_________________________________________________________________\n",
      "Layer (type)                 Output Shape              Param #   \n",
      "=================================================================\n",
      "conv2d_1_input (InputLayer)  (None, 28, 28, 1)         0         \n",
      "_________________________________________________________________\n",
      "conv2d_1 (Conv2D)            (None, 28, 28, 20)        520       \n",
      "_________________________________________________________________\n",
      "activation_1 (Activation)    (None, 28, 28, 20)        0         \n",
      "_________________________________________________________________\n",
      "max_pooling2d_1 (MaxPooling2 (None, 14, 14, 20)        0         \n",
      "_________________________________________________________________\n",
      "conv2d_2 (Conv2D)            (None, 14, 14, 50)        25050     \n",
      "_________________________________________________________________\n",
      "activation_2 (Activation)    (None, 14, 14, 50)        0         \n",
      "_________________________________________________________________\n",
      "max_pooling2d_2 (MaxPooling2 (None, 7, 7, 50)          0         \n",
      "_________________________________________________________________\n",
      "flatten_1 (Flatten)          (None, 2450)              0         \n",
      "_________________________________________________________________\n",
      "dense_1 (Dense)              (None, 500)               1225500   \n",
      "_________________________________________________________________\n",
      "activation_3 (Activation)    (None, 500)               0         \n",
      "_________________________________________________________________\n",
      "dense_3 (Dense)              (None, 10)                5010      \n",
      "=================================================================\n",
      "Total params: 1,256,080\n",
      "Trainable params: 5,010\n",
      "Non-trainable params: 1,251,070\n",
      "_________________________________________________________________\n"
     ]
    }
   ],
   "source": [
    "def build_model(input_shape, num_classes):\n",
    "    # initialize the model\n",
    "    model = Sequential()\n",
    "    model.add(Conv2D(20, (5, 5), padding=\"same\", input_shape=input_shape))\n",
    "    model.add(Activation(\"relu\"))\n",
    "    model.add(MaxPooling2D(pool_size=(2, 2), strides=(2, 2)))\n",
    "    # second set of CONV => RELU => POOL layers\n",
    "    model.add(Conv2D(50, (5, 5), padding=\"same\"))\n",
    "    model.add(Activation(\"relu\"))\n",
    "    model.add(MaxPooling2D(pool_size=(2, 2), strides=(2, 2)))\n",
    "    # first (and only) set of FC => RELU layers\n",
    "    model.add(Flatten())\n",
    "    model.add(Dense(500))\n",
    "    model.add(Activation(\"relu\"))\n",
    "    \n",
    "    for layer in model.layers:\n",
    "        layer.trainable = False  # freeze the previous layers\n",
    "    \n",
    "    X = model.output\n",
    "    # softmax classifier\n",
    "    predictions = Dense(10, activation='softmax')(X)\n",
    "    old_model = Model(inputs=model.input, outputs=predictions)\n",
    "    \n",
    "    # load weights\n",
    "    old_model.load_weights('./pretrained_mnist/lenet.hdf5')\n",
    "\n",
    "    X = model.output\n",
    "    # softmax classifier\n",
    "    predictions = Dense(num_classes, activation='softmax')(X)\n",
    "    new_model = Model(inputs=model.input, outputs=predictions)\n",
    "\n",
    "    new_model.summary()\n",
    "    \n",
    "    return new_model\n",
    "    \n",
    "input_shape = (28, 28, 1)\n",
    "num_classes = 10\n",
    "model = build_model(input_shape, num_classes)"
   ]
  },
  {
   "cell_type": "markdown",
   "metadata": {},
   "source": [
    "Define the training function"
   ]
  },
  {
   "cell_type": "code",
   "execution_count": 12,
   "metadata": {},
   "outputs": [],
   "source": [
    "def train_fn(X_train, y_train, X_vali, y_vali, input_shape, num_classes, loss, optimizer, metrics, checkpoint_dir, batch_size, epochs):\n",
    "    import os\n",
    "    if os.path.exists(checkpoint_dir) is False:\n",
    "        os.makedirs(checkpoint_dir)\n",
    "\n",
    "    model = build_model(input_shape, num_classes)\n",
    "    \n",
    "    checkpoint = ModelCheckpoint(checkpoint_dir + 'best.hdf5', monitor='val_acc', verbose=1, save_best_only=True, mode='auto')\n",
    "    es = EarlyStopping(monitor='val_loss', mode='min', verbose=1, patience=30)\n",
    "\n",
    "    \n",
    "    #Compile Keras Model \n",
    "    model.compile(loss=loss,\n",
    "                  optimizer=optimizer,\n",
    "                  metrics=metrics)\n",
    "    \n",
    "    datagen = myGenerator(X_train, y_train, batch_size)\n",
    "    \n",
    "    history = model.fit_generator(datagen,\n",
    "                        steps_per_epoch = len(X_train) // batch_size,\n",
    "                        epochs=epochs,\n",
    "                        callbacks=[es, checkpoint],\n",
    "                        verbose=2,\n",
    "                        validation_data=(X_vali, y_vali))\n",
    "    \n",
    "    plt.plot(history.history['loss'], label='train')\n",
    "    plt.plot(history.history['val_loss'], label='validation')\n",
    "    plt.legend()\n",
    "    plt.show()\n",
    "    \n",
    "    return model"
   ]
  },
  {
   "cell_type": "markdown",
   "metadata": {},
   "source": [
    "Define the testing function"
   ]
  },
  {
   "cell_type": "code",
   "execution_count": 10,
   "metadata": {},
   "outputs": [],
   "source": [
    "def test_fn(X_test, y_test, input_shape, num_classes, loss, optimizer, metrics, pretrained_weights):\n",
    "    model = build_model(input_shape, num_classes)\n",
    "\n",
    "    # Compile Keras Model \n",
    "    model.compile(loss=loss,\n",
    "                  optimizer=optimizer,\n",
    "                  metrics=metrics)\n",
    "    \n",
    "    # load weights\n",
    "    model.load_weights(pretrained_weights)\n",
    "    \n",
    "    score = model.evaluate(X_test, y_test, verbose=0)\n",
    "    \n",
    "    testPredict = model.predict(X_test)\n",
    "    y_test_tmp = np.argmax(y_test, axis=1)\n",
    "    y_pred_tmp = np.argmax(testPredict, axis=1)\n",
    "    f1_score, balanced_accuracy_score = evaluate(y_pred_tmp, y_test_tmp)\n",
    "    \n",
    "    return score[1], f1_score, balanced_accuracy_score  # return accuracies"
   ]
  },
  {
   "cell_type": "markdown",
   "metadata": {},
   "source": [
    "Now we train the LeNet model"
   ]
  },
  {
   "cell_type": "code",
   "execution_count": 11,
   "metadata": {},
   "outputs": [
    {
     "name": "stdout",
     "output_type": "stream",
     "text": [
      "(395688, 28, 28, 1)\n",
      "(98922, 28, 28, 1)\n",
      "(107158, 28, 28, 1)\n",
      "_________________________________________________________________\n",
      "Layer (type)                 Output Shape              Param #   \n",
      "=================================================================\n",
      "conv2d_3_input (InputLayer)  (None, 28, 28, 1)         0         \n",
      "_________________________________________________________________\n",
      "conv2d_3 (Conv2D)            (None, 28, 28, 20)        520       \n",
      "_________________________________________________________________\n",
      "activation_4 (Activation)    (None, 28, 28, 20)        0         \n",
      "_________________________________________________________________\n",
      "max_pooling2d_3 (MaxPooling2 (None, 14, 14, 20)        0         \n",
      "_________________________________________________________________\n",
      "conv2d_4 (Conv2D)            (None, 14, 14, 50)        25050     \n",
      "_________________________________________________________________\n",
      "activation_5 (Activation)    (None, 14, 14, 50)        0         \n",
      "_________________________________________________________________\n",
      "max_pooling2d_4 (MaxPooling2 (None, 7, 7, 50)          0         \n",
      "_________________________________________________________________\n",
      "flatten_2 (Flatten)          (None, 2450)              0         \n",
      "_________________________________________________________________\n",
      "dense_4 (Dense)              (None, 500)               1225500   \n",
      "_________________________________________________________________\n",
      "activation_6 (Activation)    (None, 500)               0         \n",
      "_________________________________________________________________\n",
      "dense_6 (Dense)              (None, 100)               50100     \n",
      "=================================================================\n",
      "Total params: 1,301,170\n",
      "Trainable params: 50,100\n",
      "Non-trainable params: 1,251,070\n",
      "_________________________________________________________________\n",
      "_________________________________________________________________\n",
      "Layer (type)                 Output Shape              Param #   \n",
      "=================================================================\n",
      "conv2d_3_input (InputLayer)  (None, 28, 28, 1)         0         \n",
      "_________________________________________________________________\n",
      "conv2d_3 (Conv2D)            (None, 28, 28, 20)        520       \n",
      "_________________________________________________________________\n",
      "activation_4 (Activation)    (None, 28, 28, 20)        0         \n",
      "_________________________________________________________________\n",
      "max_pooling2d_3 (MaxPooling2 (None, 14, 14, 20)        0         \n",
      "_________________________________________________________________\n",
      "conv2d_4 (Conv2D)            (None, 14, 14, 50)        25050     \n",
      "_________________________________________________________________\n",
      "activation_5 (Activation)    (None, 14, 14, 50)        0         \n",
      "_________________________________________________________________\n",
      "max_pooling2d_4 (MaxPooling2 (None, 7, 7, 50)          0         \n",
      "_________________________________________________________________\n",
      "flatten_2 (Flatten)          (None, 2450)              0         \n",
      "_________________________________________________________________\n",
      "dense_4 (Dense)              (None, 500)               1225500   \n",
      "_________________________________________________________________\n",
      "activation_6 (Activation)    (None, 500)               0         \n",
      "_________________________________________________________________\n",
      "dense_6 (Dense)              (None, 100)               50100     \n",
      "=================================================================\n",
      "Total params: 1,301,170\n",
      "Trainable params: 50,100\n",
      "Non-trainable params: 1,251,070\n",
      "_________________________________________________________________\n",
      "WARNING:tensorflow:From D:\\Anaconda\\envs\\tensorflow-gpu\\lib\\site-packages\\tensorflow\\python\\ops\\math_ops.py:3066: to_int32 (from tensorflow.python.ops.math_ops) is deprecated and will be removed in a future version.\n",
      "Instructions for updating:\n",
      "Use tf.cast instead.\n",
      "Epoch 1/10\n",
      " - 14s - loss: 1.1166 - acc: 0.9077 - val_loss: 1.0865 - val_acc: 0.9206\n",
      "\n",
      "Epoch 00001: val_acc improved from -inf to 0.92064, saving model to ./LeNet_MNIST_MIX/best.hdf5\n",
      "Epoch 2/10\n",
      " - 12s - loss: 1.0173 - acc: 0.9277 - val_loss: 1.0332 - val_acc: 0.9282\n",
      "\n",
      "Epoch 00002: val_acc improved from 0.92064 to 0.92816, saving model to ./LeNet_MNIST_MIX/best.hdf5\n",
      "Epoch 3/10\n",
      " - 12s - loss: 0.9800 - acc: 0.9326 - val_loss: 1.0428 - val_acc: 0.9288\n",
      "\n",
      "Epoch 00003: val_acc improved from 0.92816 to 0.92875, saving model to ./LeNet_MNIST_MIX/best.hdf5\n",
      "Epoch 4/10\n",
      " - 12s - loss: 0.9476 - acc: 0.9356 - val_loss: 1.0220 - val_acc: 0.9310\n",
      "\n",
      "Epoch 00004: val_acc improved from 0.92875 to 0.93103, saving model to ./LeNet_MNIST_MIX/best.hdf5\n",
      "Epoch 5/10\n",
      " - 12s - loss: 0.9290 - acc: 0.9376 - val_loss: 0.9686 - val_acc: 0.9351\n",
      "\n",
      "Epoch 00005: val_acc improved from 0.93103 to 0.93509, saving model to ./LeNet_MNIST_MIX/best.hdf5\n",
      "Epoch 6/10\n",
      " - 12s - loss: 0.9131 - acc: 0.9391 - val_loss: 1.0042 - val_acc: 0.9328\n",
      "\n",
      "Epoch 00006: val_acc did not improve from 0.93509\n",
      "Epoch 7/10\n",
      " - 12s - loss: 0.9003 - acc: 0.9403 - val_loss: 0.9734 - val_acc: 0.9352\n",
      "\n",
      "Epoch 00007: val_acc improved from 0.93509 to 0.93524, saving model to ./LeNet_MNIST_MIX/best.hdf5\n",
      "Epoch 8/10\n",
      " - 12s - loss: 0.8860 - acc: 0.9415 - val_loss: 0.9712 - val_acc: 0.9360\n",
      "\n",
      "Epoch 00008: val_acc improved from 0.93524 to 0.93600, saving model to ./LeNet_MNIST_MIX/best.hdf5\n",
      "Epoch 9/10\n",
      " - 12s - loss: 0.8795 - acc: 0.9420 - val_loss: 0.9544 - val_acc: 0.9371\n",
      "\n",
      "Epoch 00009: val_acc improved from 0.93600 to 0.93712, saving model to ./LeNet_MNIST_MIX/best.hdf5\n",
      "Epoch 10/10\n",
      " - 12s - loss: 0.8648 - acc: 0.9432 - val_loss: 0.9234 - val_acc: 0.9394\n",
      "\n",
      "Epoch 00010: val_acc improved from 0.93712 to 0.93939, saving model to ./LeNet_MNIST_MIX/best.hdf5\n"
     ]
    },
    {
     "data": {
      "image/png": "[encoded data removed]",
      "text/plain": [
       "<Figure size 432x288 with 1 Axes>"
      ]
     },
     "metadata": {
      "needs_background": "light"
     },
     "output_type": "display_data"
    },
    {
     "data": {
      "text/plain": [
       "<keras.engine.training.Model at 0x1d0984cd0f0>"
      ]
     },
     "execution_count": 11,
     "metadata": {},
     "output_type": "execute_result"
    }
   ],
   "source": [
    "img_rows, img_cols = 28 , 28\n",
    "input_shape = (img_rows, img_cols, 1)\n",
    "num_classes = 100\n",
    "loss = 'categorical_crossentropy'\n",
    "optimizer = adam(lr=0.01, clipnorm=0.001)\n",
    "metrics = ['accuracy']\n",
    "batch_size = 128\n",
    "epochs = 10\n",
    "\n",
    "checkpoint_dir = './LeNet_MNIST_MIX/'\n",
    "input_train_test_fn = './data/MNIST_MIX_train_test.npz'\n",
    "\n",
    "# load data\n",
    "X_train, y_train, X_vali, y_vali, X_test, y_test = load_dataset_with_processing(input_train_test_fn, num_classes = 100)\n",
    "\n",
    "train_fn(X_train, y_train, X_vali, y_vali, input_shape, num_classes, loss, optimizer, metrics, checkpoint_dir, batch_size, epochs)"
   ]
  },
  {
   "cell_type": "markdown",
   "metadata": {},
   "source": [
    "Then we test the saved model"
   ]
  },
  {
   "cell_type": "code",
   "execution_count": 13,
   "metadata": {},
   "outputs": [
    {
     "name": "stdout",
     "output_type": "stream",
     "text": [
      "_________________________________________________________________\n",
      "Layer (type)                 Output Shape              Param #   \n",
      "=================================================================\n",
      "conv2d_5_input (InputLayer)  (None, 28, 28, 1)         0         \n",
      "_________________________________________________________________\n",
      "conv2d_5 (Conv2D)            (None, 28, 28, 20)        520       \n",
      "_________________________________________________________________\n",
      "activation_7 (Activation)    (None, 28, 28, 20)        0         \n",
      "_________________________________________________________________\n",
      "max_pooling2d_5 (MaxPooling2 (None, 14, 14, 20)        0         \n",
      "_________________________________________________________________\n",
      "conv2d_6 (Conv2D)            (None, 14, 14, 50)        25050     \n",
      "_________________________________________________________________\n",
      "activation_8 (Activation)    (None, 14, 14, 50)        0         \n",
      "_________________________________________________________________\n",
      "max_pooling2d_6 (MaxPooling2 (None, 7, 7, 50)          0         \n",
      "_________________________________________________________________\n",
      "flatten_3 (Flatten)          (None, 2450)              0         \n",
      "_________________________________________________________________\n",
      "dense_7 (Dense)              (None, 500)               1225500   \n",
      "_________________________________________________________________\n",
      "activation_9 (Activation)    (None, 500)               0         \n",
      "_________________________________________________________________\n",
      "dense_9 (Dense)              (None, 100)               50100     \n",
      "=================================================================\n",
      "Total params: 1,301,170\n",
      "Trainable params: 50,100\n",
      "Non-trainable params: 1,251,070\n",
      "_________________________________________________________________\n",
      "Accuracy:  0.8859814479553556\n",
      "Weighted F1:  0.8721941787227059\n",
      "Balanced Accuracy:  0.6277607075509377\n"
     ]
    },
    {
     "name": "stderr",
     "output_type": "stream",
     "text": [
      "D:\\Anaconda\\envs\\tensorflow-gpu\\lib\\site-packages\\sklearn\\metrics\\classification.py:1437: UndefinedMetricWarning: F-score is ill-defined and being set to 0.0 in labels with no predicted samples.\n",
      "  'precision', 'predicted', average, warn_for)\n"
     ]
    }
   ],
   "source": [
    "pretrained_weights = './LeNet_MNIST_MIX/best.hdf5'\n",
    "accuracies = test_fn(X_test, y_test, input_shape, num_classes, loss, optimizer, metrics, pretrained_weights)\n",
    "print('Accuracy: ', accuracies[0])\n",
    "print('Weighted F1: ', accuracies[1])\n",
    "print('Balanced Accuracy: ', accuracies[2])"
   ]
  }
 ],
 "metadata": {
  "kernelspec": {
   "display_name": "Python 3",
   "language": "python",
   "name": "python3"
  },
  "language_info": {
   "codemirror_mode": {
    "name": "ipython",
    "version": 3
   },
   "file_extension": ".py",
   "mimetype": "text/x-python",
   "name": "python",
   "nbconvert_exporter": "python",
   "pygments_lexer": "ipython3",
   "version": "3.7.3"
  }
 },
 "nbformat": 4,
 "nbformat_minor": 2
}
